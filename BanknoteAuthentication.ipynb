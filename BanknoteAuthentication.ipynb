{
 "cells": [
  {
   "cell_type": "code",
   "execution_count": null,
   "id": "27f24c30",
   "metadata": {},
   "outputs": [],
   "source": [
    "import pandas as pd\n",
    "import numpy as np\n",
    "import seaborn as sns\n",
    "import matplotlib.pyplot as plt\n",
    "import qgrid\n",
    "\n",
    "from sklearn.model_selection import train_test_split\n",
    "from sklearn.preprocessing import StandardScaler\n",
    "from sklearn.ensemble import RandomForestClassifier, GradientBoostingClassifier\n",
    "from sklearn.linear_model import LogisticRegression\n",
    "from sklearn.svm import SVC\n",
    "from sklearn.neural_network import MLPClassifier\n",
    "from sklearn.metrics import confusion_matrix, classification_report"
   ]
  },
  {
   "cell_type": "code",
   "execution_count": null,
   "id": "10d65695",
   "metadata": {},
   "outputs": [],
   "source": [
    "features = ['variance', 'skewness', 'kurtosis', 'entropy',]\n",
    "cols = features + ['class']"
   ]
  },
  {
   "cell_type": "code",
   "execution_count": null,
   "id": "0f40e92a",
   "metadata": {
    "scrolled": true
   },
   "outputs": [],
   "source": [
    "df = pd.read_csv('./Data/data_banknote_authentication.txt')\n",
    "df.columns = cols\n",
    "\n",
    "print(df.shape)\n",
    "df_w = qgrid.show_grid(df)\n",
    "df_w"
   ]
  },
  {
   "cell_type": "code",
   "execution_count": null,
   "id": "0b2aa9c7",
   "metadata": {
    "scrolled": false
   },
   "outputs": [],
   "source": [
    "#   Run basic EDA\n",
    "\n",
    "def plot_uni(df, feature, category):\n",
    "    sns.displot(data=df, x=feature, hue=category, kde=True) #.set(title=feature)\n",
    "\n",
    "for f in features:\n",
    "    plot_uni(df, f, 'class')\n",
    "    "
   ]
  },
  {
   "cell_type": "code",
   "execution_count": null,
   "id": "6960d8ca",
   "metadata": {
    "scrolled": true
   },
   "outputs": [],
   "source": [
    "sns.pairplot(df, hue='class')"
   ]
  },
  {
   "cell_type": "code",
   "execution_count": null,
   "id": "67469863",
   "metadata": {
    "scrolled": false
   },
   "outputs": [],
   "source": [
    "# !pip install seaborn-qqplot\n",
    "from seaborn_qqplot import pplot\n",
    "from scipy.stats import norm\n",
    "\n",
    "for f in features:\n",
    "    pplot(df, x=f, y=norm, kind='qq', hue='class') # display_kws={'identity':False, 'fit':True, 'reg':True, 'ci':0.025}"
   ]
  },
  {
   "cell_type": "code",
   "execution_count": null,
   "id": "7e37e8de",
   "metadata": {},
   "outputs": [],
   "source": [
    "X = df.drop('class', axis=1)\n",
    "y = df['class']\n",
    "\n",
    "X_train, X_test, y_train, y_test = train_test_split(X, y, test_size=0.25, random_state=775)"
   ]
  },
  {
   "cell_type": "code",
   "execution_count": null,
   "id": "7e958840",
   "metadata": {},
   "outputs": [],
   "source": [
    "# here we should scale the features, but skip it for now - let's see how it works w/o scaling\n"
   ]
  },
  {
   "cell_type": "code",
   "execution_count": null,
   "id": "d20712f9",
   "metadata": {},
   "outputs": [],
   "source": [
    "models = [LogisticRegression, RandomForestClassifier, GradientBoostingClassifier, SVC, MLPClassifier]\n",
    "\n",
    "for model in models:\n",
    "    cls = model()\n",
    "    fit = cls.fit(X_train, y_train)\n",
    "    pred = fit.predict(X_test)\n",
    "    print(type(cls))\n",
    "    print(classification_report(y_test, pred))\n",
    "    print(confusion_matrix(y_test, pred))"
   ]
  }
 ],
 "metadata": {
  "kernelspec": {
   "display_name": "Python 3 (ipykernel)",
   "language": "python",
   "name": "python3"
  },
  "language_info": {
   "codemirror_mode": {
    "name": "ipython",
    "version": 3
   },
   "file_extension": ".py",
   "mimetype": "text/x-python",
   "name": "python",
   "nbconvert_exporter": "python",
   "pygments_lexer": "ipython3",
   "version": "3.10.9"
  }
 },
 "nbformat": 4,
 "nbformat_minor": 5
}
